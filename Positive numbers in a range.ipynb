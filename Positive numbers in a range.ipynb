{
 "cells": [
  {
   "cell_type": "code",
   "execution_count": 40,
   "metadata": {},
   "outputs": [
    {
     "name": "stdout",
     "output_type": "stream",
     "text": [
      "\tLIST 1\n",
      "-------------------------\n",
      "Input  :  12 -7 5 64 -14 \n",
      "Output :  12 5 64 \n",
      "\n",
      "\tLIST 2\n",
      "-------------------------\n",
      "Input  :  12 14 -95 3 \n",
      "Output :  12 14 3 "
     ]
    }
   ],
   "source": [
    "list1=[12,-7,5,64,-14]\n",
    "print(\"\\tLIST 1\")\n",
    "print(\"-------------------------\")\n",
    "print(\"Input  : \",end=\" \")\n",
    "for i in list1:\n",
    "    print(i,end=\" \")\n",
    "print(\"\\nOutput : \",end=\" \")\n",
    "for i in list1:\n",
    "    if i>0:\n",
    "        print(i, end=\" \")\n",
    "print(\"\\n\")\n",
    "print(\"\\tLIST 2\")\n",
    "print(\"-------------------------\")\n",
    "list2=[12,14,-95,3]\n",
    "print(\"Input  : \",end=\" \")\n",
    "for i in list2:\n",
    "    print(i,end=\" \")\n",
    "print(\"\\nOutput : \",end=\" \")\n",
    "for i in list2:\n",
    "    if i>0:\n",
    "        print(i, end=\" \")\n"
   ]
  }
 ],
 "metadata": {
  "kernelspec": {
   "display_name": "Python 3",
   "language": "python",
   "name": "python3"
  },
  "language_info": {
   "codemirror_mode": {
    "name": "ipython",
    "version": 3
   },
   "file_extension": ".py",
   "mimetype": "text/x-python",
   "name": "python",
   "nbconvert_exporter": "python",
   "pygments_lexer": "ipython3",
   "version": "3.6.5"
  }
 },
 "nbformat": 4,
 "nbformat_minor": 2
}
